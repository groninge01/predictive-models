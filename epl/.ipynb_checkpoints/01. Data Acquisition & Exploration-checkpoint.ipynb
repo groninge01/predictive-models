{
 "cells": [
  {
   "cell_type": "markdown",
   "metadata": {},
   "source": [
    "# EPL Machine Learning Walkthrough\n",
    "\n",
    "## 01. Data Acquisition & Exploration\n",
    "Welcome to the first part of this Machine Learning Walkthrough. This tutorial will be made of two parts; how we actually acquired our data (programmatically) and exploring the data to find potential features to use in the [next tutorial]('02. Data Preparation & Feature Engineering Tutorial').\n",
    "\n",
    "### Data Acquisition\n",
    "We will be grabbing our data from [football-data.co.uk](http://www.football-data.co.uk/englandm.php), which has an enormous amount of soccer data dating back to the 90s. They also generously allow us to use it for free! However, the data is in separate CSVs based on the season. That means we would need to manually download 20 different files if we wanted the past 20 seasons. Rather than do this laborious and boring task, let's create a function which downloads the files for us, and appends them all into one big CSV.\n",
    "\n",
    "To do this, we will use BeautifulSoup, a Python library which helps to pull data from HTML and XML files. We will then define a function which collates all the data for us into one DataFrame."
   ]
  },
  {
   "cell_type": "code",
   "execution_count": 1,
   "metadata": {},
   "outputs": [],
   "source": [
    "# Import Modules\n",
    "\n",
    "import pandas as pd\n",
    "import requests\n",
    "from bs4 import BeautifulSoup\n",
    "import datetime\n",
    "pd.set_option('display.max_columns', 100)\n",
    "import seaborn as sns\n",
    "import matplotlib.pyplot as plt\n",
    "%matplotlib inline\n",
    "from data_preparation_functions import *"
   ]
  },
  {
   "cell_type": "code",
   "execution_count": 2,
   "metadata": {},
   "outputs": [],
   "source": [
    "def grab_epl_data():\n",
    "    # Connect to football-data.co.uk\n",
    "    res = requests.get(\"http://www.football-data.co.uk/englandm.php\")\n",
    "    \n",
    "    # Create a BeautifulSoup object\n",
    "    soup = BeautifulSoup(res.content, 'lxml')\n",
    "    \n",
    "    # Find the tables with the links to the data in them.\n",
    "    table = soup.find_all('table', {'align': 'center', 'cellspacing': '0', 'width': '800'})[1]\n",
    "    body = table.find_all('td', {'valign': 'top'})[1]\n",
    "\n",
    "    # Grab the urls for the csv files\n",
    "    links = [link.get('href') for link in body.find_all('a')]\n",
    "    links_text = [link_text.text for link_text in body.find_all('a')]\n",
    "\n",
    "    data_urls = []\n",
    "    \n",
    "    # Create a list of links\n",
    "    prefix = 'http://www.football-data.co.uk/'\n",
    "    for i, text in enumerate(links_text):\n",
    "        if text == 'Premier League':\n",
    "            data_urls.append(prefix + links[i])\n",
    "\n",
    "    # Get rid of last 11 uls as these don't include match stats and odds, and we\n",
    "    # only want from 2005 onwards\n",
    "    data_urls = data_urls[:-12]\n",
    "\n",
    "    df = pd.DataFrame()\n",
    "\n",
    "    # Iterate over the urls\n",
    "    for url in data_urls:\n",
    "        # Get the season and make it a column\n",
    "        season = url.split('/')[4]\n",
    "        \n",
    "        print(f\"Getting data for season {season}\")\n",
    "        \n",
    "        # Read the data from the url into a DataFrame\n",
    "        temp_df = pd.read_csv(url)\n",
    "        temp_df['season'] = season\n",
    "        \n",
    "        if int(season) < 1850:\n",
    "            temp_df = temp_df.rename(columns={\n",
    "                \"BbAHh\": \"AHh\",\n",
    "                \"BbAvAHH\": \"AvgAHH\",\n",
    "                \"BbAvAHA\": \"AvgAHA\",\n",
    "                \"BbAv<2.5\": \"Avg>2.5\",\n",
    "                \"BbAv>2.5\": \"Avg<2.5\" \n",
    "                \"BbAvA\": \"AvgA\",\n",
    "                \"BbAvD\": \"AvgD\",\n",
    "                \"BbAvH\": \"AvgH\",\n",
    "                \"BbMx<2.5\": \"Max<2.5\",\n",
    "                \"BbMx>2.5\": \"Max>2.5\",\n",
    "                \"BbMxA\": \"MaxA\",\n",
    "                \"BbMxAHA\": \"MaxAHA\",\n",
    "                \"BbMxAHH\": \"MaxAHH\",\n",
    "                \"BbMxD\": \"MaxD\",\n",
    "                \"BbMxH\": \"MaxH\"\n",
    "            })\n",
    "        \n",
    "        # Create helpful columns like Day, Month, Year, Date etc. so that our data is clean\n",
    "        temp_df = (temp_df.dropna(axis='columns', thresh=temp_df.shape[0]-30)\n",
    "                          .assign(Day=lambda df: df.Date.str.split('/').str[0],\n",
    "                                  Month=lambda df: df.Date.str.split('/').str[1],\n",
    "                                  Year=lambda df: df.Date.str.split('/').str[2])\n",
    "                          .assign(Date=lambda df: df.Month + '/' + df.Day + '/' + df.Year)\n",
    "                          .assign(Date=lambda df: pd.to_datetime(df.Date))\n",
    "                          .dropna())\n",
    "        \n",
    "        # Append the temp_df to the main df\n",
    "        df = df.append(temp_df, sort=True)\n",
    "    \n",
    "    # Drop all NAs\n",
    "    df = df.dropna(axis=1).dropna().sort_values(by='Date')\n",
    "    print(\"Finished grabbing data.\")\n",
    "    \n",
    "    return df"
   ]
  },
  {
   "cell_type": "code",
   "execution_count": 3,
   "metadata": {},
   "outputs": [
    {
     "name": "stdout",
     "output_type": "stream",
     "text": [
      "Getting data for season 1920\n",
      "Getting data for season 1819\n",
      "Getting data for season 1718\n",
      "Getting data for season 1617\n",
      "Getting data for season 1516\n",
      "Getting data for season 1415\n",
      "Getting data for season 1314\n",
      "Getting data for season 1213\n",
      "Getting data for season 1112\n",
      "Getting data for season 1011\n",
      "Getting data for season 0910\n",
      "Getting data for season 0809\n",
      "Getting data for season 0708\n",
      "Getting data for season 0607\n",
      "Getting data for season 0506\n",
      "Finished grabbing data.\n"
     ]
    }
   ],
   "source": [
    "df = grab_epl_data()\n",
    "df.to_csv(\"data/epl_data.csv\", index=False)"
   ]
  },
  {
   "cell_type": "markdown",
   "metadata": {},
   "source": [
    "Whenever we want to update our data (for example if we want the most recent Gameweek included), all we have to do is run that function and then save the data to a csv with the commented out line above.\n",
    "\n",
    "### Data Exploration\n",
    "Now that we have our data, let's explore it. Let's first look at home team win rates since 2005 to see if there is a consistent trend. To get an idea of what our data looks like, we'll look at the tail of the dataset first."
   ]
  },
  {
   "cell_type": "code",
   "execution_count": 4,
   "metadata": {},
   "outputs": [
    {
     "data": {
      "text/html": [
       "<div>\n",
       "<style scoped>\n",
       "    .dataframe tbody tr th:only-of-type {\n",
       "        vertical-align: middle;\n",
       "    }\n",
       "\n",
       "    .dataframe tbody tr th {\n",
       "        vertical-align: top;\n",
       "    }\n",
       "\n",
       "    .dataframe thead th {\n",
       "        text-align: right;\n",
       "    }\n",
       "</style>\n",
       "<table border=\"1\" class=\"dataframe\">\n",
       "  <thead>\n",
       "    <tr style=\"text-align: right;\">\n",
       "      <th></th>\n",
       "      <th>AC</th>\n",
       "      <th>AF</th>\n",
       "      <th>AR</th>\n",
       "      <th>AS</th>\n",
       "      <th>AST</th>\n",
       "      <th>AY</th>\n",
       "      <th>AwayTeam</th>\n",
       "      <th>B365A</th>\n",
       "      <th>B365D</th>\n",
       "      <th>B365H</th>\n",
       "      <th>BWA</th>\n",
       "      <th>BWD</th>\n",
       "      <th>BWH</th>\n",
       "      <th>BbAHh</th>\n",
       "      <th>BbAv&lt;2.5</th>\n",
       "      <th>BbAv&gt;2.5</th>\n",
       "      <th>BbAvAHA</th>\n",
       "      <th>BbAvAHH</th>\n",
       "      <th>Date</th>\n",
       "      <th>Day</th>\n",
       "      <th>Div</th>\n",
       "      <th>FTAG</th>\n",
       "      <th>FTHG</th>\n",
       "      <th>FTR</th>\n",
       "      <th>HC</th>\n",
       "      <th>HF</th>\n",
       "      <th>HR</th>\n",
       "      <th>HS</th>\n",
       "      <th>HST</th>\n",
       "      <th>HTAG</th>\n",
       "      <th>HTHG</th>\n",
       "      <th>HTR</th>\n",
       "      <th>HY</th>\n",
       "      <th>HomeTeam</th>\n",
       "      <th>IWA</th>\n",
       "      <th>IWD</th>\n",
       "      <th>IWH</th>\n",
       "      <th>Month</th>\n",
       "      <th>Referee</th>\n",
       "      <th>VCA</th>\n",
       "      <th>VCD</th>\n",
       "      <th>VCH</th>\n",
       "      <th>Year</th>\n",
       "      <th>season</th>\n",
       "    </tr>\n",
       "  </thead>\n",
       "  <tbody>\n",
       "    <tr>\n",
       "      <th>46</th>\n",
       "      <td>16.0</td>\n",
       "      <td>7.0</td>\n",
       "      <td>0.0</td>\n",
       "      <td>25.0</td>\n",
       "      <td>8.0</td>\n",
       "      <td>1.0</td>\n",
       "      <td>Man City</td>\n",
       "      <td>1.14</td>\n",
       "      <td>9.0</td>\n",
       "      <td>15.0</td>\n",
       "      <td>1.16</td>\n",
       "      <td>8.5</td>\n",
       "      <td>14.5</td>\n",
       "      <td>2.50</td>\n",
       "      <td>1.23</td>\n",
       "      <td>4.15</td>\n",
       "      <td>2.02</td>\n",
       "      <td>1.86</td>\n",
       "      <td>2019-09-14</td>\n",
       "      <td>14</td>\n",
       "      <td>E0</td>\n",
       "      <td>2.0</td>\n",
       "      <td>3.0</td>\n",
       "      <td>H</td>\n",
       "      <td>3.0</td>\n",
       "      <td>8.0</td>\n",
       "      <td>0.0</td>\n",
       "      <td>7.0</td>\n",
       "      <td>3.0</td>\n",
       "      <td>1.0</td>\n",
       "      <td>2.0</td>\n",
       "      <td>H</td>\n",
       "      <td>3.0</td>\n",
       "      <td>Norwich</td>\n",
       "      <td>1.15</td>\n",
       "      <td>8.5</td>\n",
       "      <td>15.00</td>\n",
       "      <td>09</td>\n",
       "      <td>K Friend</td>\n",
       "      <td>1.15</td>\n",
       "      <td>9.00</td>\n",
       "      <td>17.0</td>\n",
       "      <td>2019</td>\n",
       "      <td>1920</td>\n",
       "    </tr>\n",
       "    <tr>\n",
       "      <th>48</th>\n",
       "      <td>1.0</td>\n",
       "      <td>4.0</td>\n",
       "      <td>0.0</td>\n",
       "      <td>10.0</td>\n",
       "      <td>4.0</td>\n",
       "      <td>3.0</td>\n",
       "      <td>Arsenal</td>\n",
       "      <td>2.00</td>\n",
       "      <td>3.6</td>\n",
       "      <td>3.6</td>\n",
       "      <td>1.91</td>\n",
       "      <td>3.8</td>\n",
       "      <td>3.8</td>\n",
       "      <td>0.50</td>\n",
       "      <td>1.57</td>\n",
       "      <td>2.41</td>\n",
       "      <td>2.02</td>\n",
       "      <td>1.87</td>\n",
       "      <td>2019-09-15</td>\n",
       "      <td>15</td>\n",
       "      <td>E0</td>\n",
       "      <td>2.0</td>\n",
       "      <td>2.0</td>\n",
       "      <td>D</td>\n",
       "      <td>7.0</td>\n",
       "      <td>14.0</td>\n",
       "      <td>0.0</td>\n",
       "      <td>31.0</td>\n",
       "      <td>7.0</td>\n",
       "      <td>2.0</td>\n",
       "      <td>0.0</td>\n",
       "      <td>A</td>\n",
       "      <td>3.0</td>\n",
       "      <td>Watford</td>\n",
       "      <td>1.90</td>\n",
       "      <td>3.7</td>\n",
       "      <td>3.90</td>\n",
       "      <td>09</td>\n",
       "      <td>A Taylor</td>\n",
       "      <td>2.05</td>\n",
       "      <td>3.75</td>\n",
       "      <td>3.6</td>\n",
       "      <td>2019</td>\n",
       "      <td>1920</td>\n",
       "    </tr>\n",
       "    <tr>\n",
       "      <th>47</th>\n",
       "      <td>7.0</td>\n",
       "      <td>14.0</td>\n",
       "      <td>0.0</td>\n",
       "      <td>14.0</td>\n",
       "      <td>5.0</td>\n",
       "      <td>4.0</td>\n",
       "      <td>Everton</td>\n",
       "      <td>2.40</td>\n",
       "      <td>3.5</td>\n",
       "      <td>2.9</td>\n",
       "      <td>2.30</td>\n",
       "      <td>3.5</td>\n",
       "      <td>3.0</td>\n",
       "      <td>0.25</td>\n",
       "      <td>1.75</td>\n",
       "      <td>2.10</td>\n",
       "      <td>2.05</td>\n",
       "      <td>1.84</td>\n",
       "      <td>2019-09-15</td>\n",
       "      <td>15</td>\n",
       "      <td>E0</td>\n",
       "      <td>1.0</td>\n",
       "      <td>3.0</td>\n",
       "      <td>H</td>\n",
       "      <td>7.0</td>\n",
       "      <td>5.0</td>\n",
       "      <td>0.0</td>\n",
       "      <td>13.0</td>\n",
       "      <td>6.0</td>\n",
       "      <td>1.0</td>\n",
       "      <td>1.0</td>\n",
       "      <td>D</td>\n",
       "      <td>0.0</td>\n",
       "      <td>Bournemouth</td>\n",
       "      <td>2.30</td>\n",
       "      <td>3.5</td>\n",
       "      <td>2.95</td>\n",
       "      <td>09</td>\n",
       "      <td>P Tierney</td>\n",
       "      <td>2.40</td>\n",
       "      <td>3.50</td>\n",
       "      <td>3.1</td>\n",
       "      <td>2019</td>\n",
       "      <td>1920</td>\n",
       "    </tr>\n",
       "  </tbody>\n",
       "</table>\n",
       "</div>"
      ],
      "text/plain": [
       "      AC    AF   AR    AS  AST   AY  AwayTeam  B365A  B365D  B365H   BWA  BWD  \\\n",
       "46  16.0   7.0  0.0  25.0  8.0  1.0  Man City   1.14    9.0   15.0  1.16  8.5   \n",
       "48   1.0   4.0  0.0  10.0  4.0  3.0   Arsenal   2.00    3.6    3.6  1.91  3.8   \n",
       "47   7.0  14.0  0.0  14.0  5.0  4.0   Everton   2.40    3.5    2.9  2.30  3.5   \n",
       "\n",
       "     BWH  BbAHh  BbAv<2.5  BbAv>2.5  BbAvAHA  BbAvAHH       Date Day Div  \\\n",
       "46  14.5   2.50      1.23      4.15     2.02     1.86 2019-09-14  14  E0   \n",
       "48   3.8   0.50      1.57      2.41     2.02     1.87 2019-09-15  15  E0   \n",
       "47   3.0   0.25      1.75      2.10     2.05     1.84 2019-09-15  15  E0   \n",
       "\n",
       "    FTAG  FTHG FTR   HC    HF   HR    HS  HST  HTAG  HTHG HTR   HY  \\\n",
       "46   2.0   3.0   H  3.0   8.0  0.0   7.0  3.0   1.0   2.0   H  3.0   \n",
       "48   2.0   2.0   D  7.0  14.0  0.0  31.0  7.0   2.0   0.0   A  3.0   \n",
       "47   1.0   3.0   H  7.0   5.0  0.0  13.0  6.0   1.0   1.0   D  0.0   \n",
       "\n",
       "       HomeTeam   IWA  IWD    IWH Month    Referee   VCA   VCD   VCH  Year  \\\n",
       "46      Norwich  1.15  8.5  15.00    09   K Friend  1.15  9.00  17.0  2019   \n",
       "48      Watford  1.90  3.7   3.90    09   A Taylor  2.05  3.75   3.6  2019   \n",
       "47  Bournemouth  2.30  3.5   2.95    09  P Tierney  2.40  3.50   3.1  2019   \n",
       "\n",
       "   season  \n",
       "46   1920  \n",
       "48   1920  \n",
       "47   1920  "
      ]
     },
     "execution_count": 4,
     "metadata": {},
     "output_type": "execute_result"
    }
   ],
   "source": [
    "df.tail(3)"
   ]
  },
  {
   "cell_type": "code",
   "execution_count": 5,
   "metadata": {},
   "outputs": [],
   "source": [
    "# Create Home Win, Draw Win and Away Win columns\n",
    "df = df.assign(homeWin=lambda df: df.apply(lambda row: 1 if row.FTHG > row.FTAG else 0, axis='columns'),\n",
    "              draw=lambda df: df.apply(lambda row: 1 if row.FTHG == row.FTAG else 0, axis='columns'),\n",
    "              awayWin=lambda df: df.apply(lambda row: 1 if row.FTHG < row.FTAG else 0, axis='columns'))"
   ]
  },
  {
   "cell_type": "markdown",
   "metadata": {},
   "source": [
    "#### Home Ground Advantage"
   ]
  },
  {
   "cell_type": "code",
   "execution_count": 6,
   "metadata": {},
   "outputs": [
    {
     "data": {
      "text/html": [
       "<div>\n",
       "<style scoped>\n",
       "    .dataframe tbody tr th:only-of-type {\n",
       "        vertical-align: middle;\n",
       "    }\n",
       "\n",
       "    .dataframe tbody tr th {\n",
       "        vertical-align: top;\n",
       "    }\n",
       "\n",
       "    .dataframe thead th {\n",
       "        text-align: right;\n",
       "    }\n",
       "</style>\n",
       "<table border=\"1\" class=\"dataframe\">\n",
       "  <thead>\n",
       "    <tr style=\"text-align: right;\">\n",
       "      <th></th>\n",
       "      <th>homeWin</th>\n",
       "      <th>draw</th>\n",
       "      <th>awayWin</th>\n",
       "    </tr>\n",
       "    <tr>\n",
       "      <th>season</th>\n",
       "      <th></th>\n",
       "      <th></th>\n",
       "      <th></th>\n",
       "    </tr>\n",
       "  </thead>\n",
       "  <tbody>\n",
       "    <tr>\n",
       "      <th>0506</th>\n",
       "      <td>0.505263</td>\n",
       "      <td>0.202632</td>\n",
       "      <td>0.292105</td>\n",
       "    </tr>\n",
       "    <tr>\n",
       "      <th>0607</th>\n",
       "      <td>0.477573</td>\n",
       "      <td>0.258575</td>\n",
       "      <td>0.263852</td>\n",
       "    </tr>\n",
       "    <tr>\n",
       "      <th>0708</th>\n",
       "      <td>0.463158</td>\n",
       "      <td>0.263158</td>\n",
       "      <td>0.273684</td>\n",
       "    </tr>\n",
       "    <tr>\n",
       "      <th>0809</th>\n",
       "      <td>0.453826</td>\n",
       "      <td>0.255937</td>\n",
       "      <td>0.290237</td>\n",
       "    </tr>\n",
       "    <tr>\n",
       "      <th>0910</th>\n",
       "      <td>0.507895</td>\n",
       "      <td>0.252632</td>\n",
       "      <td>0.239474</td>\n",
       "    </tr>\n",
       "    <tr>\n",
       "      <th>1011</th>\n",
       "      <td>0.471053</td>\n",
       "      <td>0.292105</td>\n",
       "      <td>0.236842</td>\n",
       "    </tr>\n",
       "    <tr>\n",
       "      <th>1112</th>\n",
       "      <td>0.450000</td>\n",
       "      <td>0.244737</td>\n",
       "      <td>0.305263</td>\n",
       "    </tr>\n",
       "    <tr>\n",
       "      <th>1213</th>\n",
       "      <td>0.433862</td>\n",
       "      <td>0.285714</td>\n",
       "      <td>0.280423</td>\n",
       "    </tr>\n",
       "    <tr>\n",
       "      <th>1314</th>\n",
       "      <td>0.472973</td>\n",
       "      <td>0.208108</td>\n",
       "      <td>0.318919</td>\n",
       "    </tr>\n",
       "    <tr>\n",
       "      <th>1415</th>\n",
       "      <td>0.453826</td>\n",
       "      <td>0.245383</td>\n",
       "      <td>0.300792</td>\n",
       "    </tr>\n",
       "    <tr>\n",
       "      <th>1516</th>\n",
       "      <td>0.414248</td>\n",
       "      <td>0.282322</td>\n",
       "      <td>0.303430</td>\n",
       "    </tr>\n",
       "    <tr>\n",
       "      <th>1617</th>\n",
       "      <td>0.492105</td>\n",
       "      <td>0.221053</td>\n",
       "      <td>0.286842</td>\n",
       "    </tr>\n",
       "    <tr>\n",
       "      <th>1718</th>\n",
       "      <td>0.455263</td>\n",
       "      <td>0.260526</td>\n",
       "      <td>0.284211</td>\n",
       "    </tr>\n",
       "    <tr>\n",
       "      <th>1819</th>\n",
       "      <td>0.476316</td>\n",
       "      <td>0.186842</td>\n",
       "      <td>0.336842</td>\n",
       "    </tr>\n",
       "    <tr>\n",
       "      <th>1920</th>\n",
       "      <td>0.408163</td>\n",
       "      <td>0.285714</td>\n",
       "      <td>0.306122</td>\n",
       "    </tr>\n",
       "  </tbody>\n",
       "</table>\n",
       "</div>"
      ],
      "text/plain": [
       "         homeWin      draw   awayWin\n",
       "season                              \n",
       "0506    0.505263  0.202632  0.292105\n",
       "0607    0.477573  0.258575  0.263852\n",
       "0708    0.463158  0.263158  0.273684\n",
       "0809    0.453826  0.255937  0.290237\n",
       "0910    0.507895  0.252632  0.239474\n",
       "1011    0.471053  0.292105  0.236842\n",
       "1112    0.450000  0.244737  0.305263\n",
       "1213    0.433862  0.285714  0.280423\n",
       "1314    0.472973  0.208108  0.318919\n",
       "1415    0.453826  0.245383  0.300792\n",
       "1516    0.414248  0.282322  0.303430\n",
       "1617    0.492105  0.221053  0.286842\n",
       "1718    0.455263  0.260526  0.284211\n",
       "1819    0.476316  0.186842  0.336842\n",
       "1920    0.408163  0.285714  0.306122"
      ]
     },
     "execution_count": 6,
     "metadata": {},
     "output_type": "execute_result"
    }
   ],
   "source": [
    "win_rates = \\\n",
    "(df.groupby('season')\n",
    "    .mean()\n",
    "    .loc[:, ['homeWin', 'draw', 'awayWin']])\n",
    "\n",
    "win_rates"
   ]
  },
  {
   "cell_type": "markdown",
   "metadata": {},
   "source": [
    "#### Findings\n",
    "As we can see, winrates across home team wins, draws and away team wins are very consistent. It seems that the home team wins around 46-47% of the time, the draw happens about 25% of the time, and the away team wins about 27% of the time. Let's plot this DataFrame so that we can see the trend more easily."
   ]
  },
  {
   "cell_type": "code",
   "execution_count": 7,
   "metadata": {},
   "outputs": [
    {
     "data": {
      "image/png": "[encoded data removed]",
      "text/plain": [
       "<Figure size 432x288 with 1 Axes>"
      ]
     },
     "metadata": {},
     "output_type": "display_data"
    }
   ],
   "source": [
    "# Set the style\n",
    "plt.style.use('ggplot')\n",
    "\n",
    "fig = plt.figure()\n",
    "ax = fig.add_subplot(111)\n",
    "\n",
    "\n",
    "home_line = ax.plot(win_rates.homeWin, label='Home Win Rate')\n",
    "away_line = ax.plot(win_rates.awayWin, label='Away Win Rate')\n",
    "draw_line = ax.plot(win_rates.draw, label='Draw Win Rate')\n",
    "ax.set_xlabel(\"season\")\n",
    "ax.set_ylabel(\"Win Rate\")\n",
    "plt.title(\"Win Rates\", fontsize=16)\n",
    "\n",
    "# Add the legend locations\n",
    "home_legend = plt.legend(handles=home_line, loc='upper right', bbox_to_anchor=(1, 1))\n",
    "ax = plt.gca().add_artist(home_legend)\n",
    "away_legend = plt.legend(handles=away_line, loc='center right', bbox_to_anchor=(0.95, 0.4))\n",
    "ax = plt.gca().add_artist(away_legend)\n",
    "draw_legend = plt.legend(handles=draw_line, loc='center right', bbox_to_anchor=(0.95, 0.06))"
   ]
  },
  {
   "cell_type": "markdown",
   "metadata": {},
   "source": [
    "As we can see, the winrates are relatively stable each season, except for in 14/15 when the home win rate drops dramatically.\n",
    "\n",
    "Out of interest, let's also have a look at which team has the best home ground advantage. Let's define HGA as home win rate - away win rate. And then plot some of the big clubs' HGA against each other."
   ]
  },
  {
   "cell_type": "code",
   "execution_count": 8,
   "metadata": {},
   "outputs": [],
   "source": [
    "home_win_rates = \\\n",
    "(df.groupby(['HomeTeam'])\n",
    "    .homeWin\n",
    "    .mean())\n",
    "\n",
    "away_win_rates = \\\n",
    "(df.groupby(['AwayTeam'])\n",
    "    .awayWin\n",
    "    .mean())\n",
    "\n",
    "hga = (home_win_rates - away_win_rates).reset_index().rename(columns={0: 'HGA'}).sort_values(by='HGA', ascending=False)"
   ]
  },
  {
   "cell_type": "code",
   "execution_count": 9,
   "metadata": {},
   "outputs": [
    {
     "data": {
      "text/html": [
       "<div>\n",
       "<style scoped>\n",
       "    .dataframe tbody tr th:only-of-type {\n",
       "        vertical-align: middle;\n",
       "    }\n",
       "\n",
       "    .dataframe tbody tr th {\n",
       "        vertical-align: top;\n",
       "    }\n",
       "\n",
       "    .dataframe thead th {\n",
       "        text-align: right;\n",
       "    }\n",
       "</style>\n",
       "<table border=\"1\" class=\"dataframe\">\n",
       "  <thead>\n",
       "    <tr style=\"text-align: right;\">\n",
       "      <th></th>\n",
       "      <th>HomeTeam</th>\n",
       "      <th>HGA</th>\n",
       "    </tr>\n",
       "  </thead>\n",
       "  <tbody>\n",
       "    <tr>\n",
       "      <th>15</th>\n",
       "      <td>Fulham</td>\n",
       "      <td>0.309183</td>\n",
       "    </tr>\n",
       "    <tr>\n",
       "      <th>14</th>\n",
       "      <td>Everton</td>\n",
       "      <td>0.246269</td>\n",
       "    </tr>\n",
       "    <tr>\n",
       "      <th>0</th>\n",
       "      <td>Arsenal</td>\n",
       "      <td>0.245067</td>\n",
       "    </tr>\n",
       "    <tr>\n",
       "      <th>30</th>\n",
       "      <td>Stoke</td>\n",
       "      <td>0.241131</td>\n",
       "    </tr>\n",
       "    <tr>\n",
       "      <th>20</th>\n",
       "      <td>Man City</td>\n",
       "      <td>0.238114</td>\n",
       "    </tr>\n",
       "    <tr>\n",
       "      <th>10</th>\n",
       "      <td>Charlton</td>\n",
       "      <td>0.236842</td>\n",
       "    </tr>\n",
       "    <tr>\n",
       "      <th>27</th>\n",
       "      <td>Reading</td>\n",
       "      <td>0.234962</td>\n",
       "    </tr>\n",
       "    <tr>\n",
       "      <th>28</th>\n",
       "      <td>Sheffield United</td>\n",
       "      <td>0.220779</td>\n",
       "    </tr>\n",
       "    <tr>\n",
       "      <th>24</th>\n",
       "      <td>Norwich</td>\n",
       "      <td>0.217949</td>\n",
       "    </tr>\n",
       "    <tr>\n",
       "      <th>33</th>\n",
       "      <td>Tottenham</td>\n",
       "      <td>0.214937</td>\n",
       "    </tr>\n",
       "  </tbody>\n",
       "</table>\n",
       "</div>"
      ],
      "text/plain": [
       "            HomeTeam       HGA\n",
       "15            Fulham  0.309183\n",
       "14           Everton  0.246269\n",
       "0            Arsenal  0.245067\n",
       "30             Stoke  0.241131\n",
       "20          Man City  0.238114\n",
       "10          Charlton  0.236842\n",
       "27           Reading  0.234962\n",
       "28  Sheffield United  0.220779\n",
       "24           Norwich  0.217949\n",
       "33         Tottenham  0.214937"
      ]
     },
     "execution_count": 9,
     "metadata": {},
     "output_type": "execute_result"
    }
   ],
   "source": [
    "hga.head(10)"
   ]
  },
  {
   "cell_type": "markdown",
   "metadata": {},
   "source": [
    "So the club with the best HGA is Fulham - interesting. This is most likely because Fulham have won 100% of home games in 2018 so far which is skewing the mean. Let's see how the HGA for some of the big clubs based compare over seasons."
   ]
  },
  {
   "cell_type": "code",
   "execution_count": 10,
   "metadata": {},
   "outputs": [
    {
     "data": {
      "text/html": [
       "<div>\n",
       "<style scoped>\n",
       "    .dataframe tbody tr th:only-of-type {\n",
       "        vertical-align: middle;\n",
       "    }\n",
       "\n",
       "    .dataframe tbody tr th {\n",
       "        vertical-align: top;\n",
       "    }\n",
       "\n",
       "    .dataframe thead th {\n",
       "        text-align: right;\n",
       "    }\n",
       "</style>\n",
       "<table border=\"1\" class=\"dataframe\">\n",
       "  <thead>\n",
       "    <tr style=\"text-align: right;\">\n",
       "      <th>HomeTeam</th>\n",
       "      <th>Arsenal</th>\n",
       "      <th>Chelsea</th>\n",
       "      <th>Liverpool</th>\n",
       "      <th>Man City</th>\n",
       "      <th>Man United</th>\n",
       "    </tr>\n",
       "    <tr>\n",
       "      <th>season</th>\n",
       "      <th></th>\n",
       "      <th></th>\n",
       "      <th></th>\n",
       "      <th></th>\n",
       "      <th></th>\n",
       "    </tr>\n",
       "  </thead>\n",
       "  <tbody>\n",
       "    <tr>\n",
       "      <th>0506</th>\n",
       "      <td>0.421053</td>\n",
       "      <td>0.368421</td>\n",
       "      <td>0.263158</td>\n",
       "      <td>0.263158</td>\n",
       "      <td>0.052632</td>\n",
       "    </tr>\n",
       "    <tr>\n",
       "      <th>0607</th>\n",
       "      <td>0.263158</td>\n",
       "      <td>0.000000</td>\n",
       "      <td>0.421053</td>\n",
       "      <td>-0.052632</td>\n",
       "      <td>0.105263</td>\n",
       "    </tr>\n",
       "    <tr>\n",
       "      <th>0708</th>\n",
       "      <td>0.210526</td>\n",
       "      <td>-0.052632</td>\n",
       "      <td>0.157895</td>\n",
       "      <td>0.368421</td>\n",
       "      <td>0.368421</td>\n",
       "    </tr>\n",
       "    <tr>\n",
       "      <th>0809</th>\n",
       "      <td>0.105263</td>\n",
       "      <td>-0.157895</td>\n",
       "      <td>-0.052632</td>\n",
       "      <td>0.578947</td>\n",
       "      <td>0.210526</td>\n",
       "    </tr>\n",
       "    <tr>\n",
       "      <th>0910</th>\n",
       "      <td>0.368421</td>\n",
       "      <td>0.368421</td>\n",
       "      <td>0.421053</td>\n",
       "      <td>0.315789</td>\n",
       "      <td>0.263158</td>\n",
       "    </tr>\n",
       "    <tr>\n",
       "      <th>1011</th>\n",
       "      <td>0.157895</td>\n",
       "      <td>0.368421</td>\n",
       "      <td>0.368421</td>\n",
       "      <td>0.263158</td>\n",
       "      <td>0.684211</td>\n",
       "    </tr>\n",
       "    <tr>\n",
       "      <th>1112</th>\n",
       "      <td>0.157895</td>\n",
       "      <td>0.315789</td>\n",
       "      <td>-0.105263</td>\n",
       "      <td>0.421053</td>\n",
       "      <td>0.105263</td>\n",
       "    </tr>\n",
       "    <tr>\n",
       "      <th>1213</th>\n",
       "      <td>0.052632</td>\n",
       "      <td>0.105263</td>\n",
       "      <td>0.105263</td>\n",
       "      <td>0.248538</td>\n",
       "      <td>0.201754</td>\n",
       "    </tr>\n",
       "    <tr>\n",
       "      <th>1314</th>\n",
       "      <td>0.143275</td>\n",
       "      <td>0.251462</td>\n",
       "      <td>0.307018</td>\n",
       "      <td>0.362573</td>\n",
       "      <td>-0.026316</td>\n",
       "    </tr>\n",
       "    <tr>\n",
       "      <th>1415</th>\n",
       "      <td>0.131579</td>\n",
       "      <td>0.210526</td>\n",
       "      <td>0.105263</td>\n",
       "      <td>0.210526</td>\n",
       "      <td>0.421053</td>\n",
       "    </tr>\n",
       "    <tr>\n",
       "      <th>1516</th>\n",
       "      <td>0.210526</td>\n",
       "      <td>-0.105263</td>\n",
       "      <td>0.000000</td>\n",
       "      <td>0.263158</td>\n",
       "      <td>0.263158</td>\n",
       "    </tr>\n",
       "    <tr>\n",
       "      <th>1617</th>\n",
       "      <td>0.263158</td>\n",
       "      <td>0.210526</td>\n",
       "      <td>0.105263</td>\n",
       "      <td>-0.052632</td>\n",
       "      <td>-0.105263</td>\n",
       "    </tr>\n",
       "    <tr>\n",
       "      <th>1718</th>\n",
       "      <td>0.578947</td>\n",
       "      <td>0.052632</td>\n",
       "      <td>0.157895</td>\n",
       "      <td>0.000000</td>\n",
       "      <td>0.263158</td>\n",
       "    </tr>\n",
       "    <tr>\n",
       "      <th>1819</th>\n",
       "      <td>0.368421</td>\n",
       "      <td>0.157895</td>\n",
       "      <td>0.210526</td>\n",
       "      <td>0.210526</td>\n",
       "      <td>0.052632</td>\n",
       "    </tr>\n",
       "    <tr>\n",
       "      <th>1920</th>\n",
       "      <td>0.166667</td>\n",
       "      <td>-0.666667</td>\n",
       "      <td>0.000000</td>\n",
       "      <td>-0.166667</td>\n",
       "      <td>0.666667</td>\n",
       "    </tr>\n",
       "  </tbody>\n",
       "</table>\n",
       "</div>"
      ],
      "text/plain": [
       "HomeTeam   Arsenal   Chelsea  Liverpool  Man City  Man United\n",
       "season                                                       \n",
       "0506      0.421053  0.368421   0.263158  0.263158    0.052632\n",
       "0607      0.263158  0.000000   0.421053 -0.052632    0.105263\n",
       "0708      0.210526 -0.052632   0.157895  0.368421    0.368421\n",
       "0809      0.105263 -0.157895  -0.052632  0.578947    0.210526\n",
       "0910      0.368421  0.368421   0.421053  0.315789    0.263158\n",
       "1011      0.157895  0.368421   0.368421  0.263158    0.684211\n",
       "1112      0.157895  0.315789  -0.105263  0.421053    0.105263\n",
       "1213      0.052632  0.105263   0.105263  0.248538    0.201754\n",
       "1314      0.143275  0.251462   0.307018  0.362573   -0.026316\n",
       "1415      0.131579  0.210526   0.105263  0.210526    0.421053\n",
       "1516      0.210526 -0.105263   0.000000  0.263158    0.263158\n",
       "1617      0.263158  0.210526   0.105263 -0.052632   -0.105263\n",
       "1718      0.578947  0.052632   0.157895  0.000000    0.263158\n",
       "1819      0.368421  0.157895   0.210526  0.210526    0.052632\n",
       "1920      0.166667 -0.666667   0.000000 -0.166667    0.666667"
      ]
     },
     "execution_count": 10,
     "metadata": {},
     "output_type": "execute_result"
    }
   ],
   "source": [
    "big_clubs = ['Liverpool', 'Man City', 'Man United', 'Chelsea', 'Arsenal']\n",
    "home_win_rates_5 = df[df.HomeTeam.isin(big_clubs)].groupby(['HomeTeam', 'season']).homeWin.mean()\n",
    "away_win_rates_5 = df[df.AwayTeam.isin(big_clubs)].groupby(['AwayTeam', 'season']).awayWin.mean()\n",
    "\n",
    "hga_top_5 = home_win_rates_5 - away_win_rates_5\n",
    "\n",
    "hga_top_5.unstack(level=0)"
   ]
  },
  {
   "cell_type": "markdown",
   "metadata": {},
   "source": [
    "Now let's plot it."
   ]
  },
  {
   "cell_type": "code",
   "execution_count": 11,
   "metadata": {},
   "outputs": [
    {
     "data": {
      "image/png": "[encoded data removed]",
      "text/plain": [
       "<Figure size 432x288 with 1 Axes>"
      ]
     },
     "metadata": {},
     "output_type": "display_data"
    }
   ],
   "source": [
    "sns.lineplot(x='season', y='HGA', hue='team', data=hga_top_5.reset_index().rename(columns={0: 'HGA', 'HomeTeam': 'team'}))\n",
    "plt.legend(loc='lower center', ncol=6, bbox_to_anchor=(0.45, -0.2))\n",
    "plt.title(\"HGA Among the top 5 clubs\", fontsize=14)\n",
    "plt.show()"
   ]
  },
  {
   "cell_type": "markdown",
   "metadata": {},
   "source": [
    "The results here seem to be quite erratic, although it seems that Arsenal consistently has a HGA above 0."
   ]
  },
  {
   "cell_type": "markdown",
   "metadata": {},
   "source": [
    "Let's now look at the distributions of each of our columns. The odds columns are likely to be highly skewed, so we may have to account for this later."
   ]
  },
  {
   "cell_type": "markdown",
   "metadata": {},
   "source": [
    "### Exploring Referee Home Ground Bias\n",
    "What may be of interest is whether certain referees are correlated with the home team winning more often. Let's explore referee home ground bias for referees for the top 10 Referees based on games."
   ]
  },
  {
   "cell_type": "code",
   "execution_count": 12,
   "metadata": {},
   "outputs": [
    {
     "name": "stdout",
     "output_type": "stream",
     "text": [
      "Overall Home Win Rate: 46.57%\n"
     ]
    },
    {
     "data": {
      "text/plain": [
       "Referee\n",
       "L Mason          0.505747\n",
       "C Foy            0.500000\n",
       "M Clattenburg    0.480000\n",
       "P Dowd           0.469880\n",
       "M Oliver         0.459916\n",
       "H Webb           0.456604\n",
       "M Atkinson       0.454787\n",
       "A Taylor         0.452174\n",
       "M Dean           0.442786\n",
       "A Marriner       0.441935\n",
       "Name: homeWin, dtype: float64"
      ]
     },
     "execution_count": 12,
     "metadata": {},
     "output_type": "execute_result"
    }
   ],
   "source": [
    "print('Overall Home Win Rate: {:.4}%'.format(df.homeWin.mean() * 100))\n",
    "\n",
    "# Get the top 10 refs based on games\n",
    "top_10_refs = df.Referee.value_counts().head(10).index\n",
    "\n",
    "df[df.Referee.isin(top_10_refs)].groupby('Referee').homeWin.mean().sort_values(ascending=False)"
   ]
  },
  {
   "cell_type": "markdown",
   "metadata": {},
   "source": [
    "It seems that L Mason may be the most influenced by the home crowd. Whilst the overall home win rate is 46.5%, the home win rate when he is the Referee is 51%. However it should be noted that this doesn't mean that he causes the win through bias. It could just be that he referees the best clubs, so naturally their home win rate is high."
   ]
  },
  {
   "cell_type": "markdown",
   "metadata": {},
   "source": [
    "### Variable Correlation With Margin\n",
    "Let's now explore different variables' relationships with margin. First, we'll create a margin column, then we will pick a few different variables to look at the correlations amongst each other, using a correlation heatmap."
   ]
  },
  {
   "cell_type": "code",
   "execution_count": 13,
   "metadata": {},
   "outputs": [],
   "source": [
    "df['margin'] = df['FTHG'] - df['FTAG']"
   ]
  },
  {
   "cell_type": "code",
   "execution_count": 14,
   "metadata": {},
   "outputs": [
    {
     "data": {
      "text/plain": [
       "AST      -0.347660\n",
       "AS       -0.297138\n",
       "HY       -0.151547\n",
       "HR       -0.130553\n",
       "AC       -0.074575\n",
       "HF       -0.066582\n",
       "AF        0.006440\n",
       "AY        0.010083\n",
       "HC        0.072226\n",
       "AR        0.099361\n",
       "HS        0.276915\n",
       "HST       0.370609\n",
       "margin    1.000000\n",
       "Name: margin, dtype: float64"
      ]
     },
     "execution_count": 14,
     "metadata": {},
     "output_type": "execute_result"
    }
   ],
   "source": [
    "stat_cols = ['AC', 'AF', 'AR', 'AS', 'AST', 'AY', 'HC', 'HF', 'HR', 'HS', 'HST', 'HTR', 'HY', 'margin']\n",
    "\n",
    "stat_correlations = df[stat_cols].corr()\n",
    "stat_correlations['margin'].sort_values()"
   ]
  },
  {
   "cell_type": "markdown",
   "metadata": {},
   "source": [
    "Unsurprisingly, Home Shots on Target correlate the most with Margin, and Away Reds is also high. What is surprising is that Home Yellows has quite a strong negative correlation with margin - this may be because players will play more aggresively when they are losing to try and get the lead back, and hence receive more yellow cards.\n",
    "\n",
    "Let's now look at the heatmap between variables."
   ]
  },
  {
   "cell_type": "code",
   "execution_count": 15,
   "metadata": {},
   "outputs": [
    {
     "data": {
      "text/plain": [
       "<matplotlib.axes._subplots.AxesSubplot at 0x7ff0521711d0>"
      ]
     },
     "execution_count": 15,
     "metadata": {},
     "output_type": "execute_result"
    },
    {
     "data": {
      "image/png": "[encoded data removed]",
      "text/plain": [
       "<Figure size 432x288 with 2 Axes>"
      ]
     },
     "metadata": {},
     "output_type": "display_data"
    }
   ],
   "source": [
    "sns.heatmap(stat_correlations, annot=True, annot_kws={'size': 10})"
   ]
  },
  {
   "cell_type": "markdown",
   "metadata": {},
   "source": [
    "### Analysing Features\n",
    "What we are really interested in, is how our features (creating in the next tutorial), correlate with winning. We will skip ahead here and use a function to create our features for us, and then examine how the moving averages/different features correlate with winning."
   ]
  },
  {
   "cell_type": "code",
   "execution_count": 16,
   "metadata": {},
   "outputs": [
    {
     "name": "stdout",
     "output_type": "stream",
     "text": [
      "Creating all games feature DataFrame\n"
     ]
    },
    {
     "name": "stderr",
     "output_type": "stream",
     "text": [
      "/home/groninge/projects/predictive-models/epl/data_preparation_functions.py:419: RuntimeWarning: invalid value encountered in double_scalars\n",
      "  .pipe(lambda df: (df.eloAgainst * df[goalsForOrAgainstCol]).sum() / df.eloAgainst.sum()))\n"
     ]
    },
    {
     "name": "stdout",
     "output_type": "stream",
     "text": [
      "Creating stats feature DataFrame\n",
      "Creating odds feature DataFrame\n",
      "Creating market values feature DataFrame\n",
      "Filling NAs\n",
      "Merging stats, odds and market values into one features DataFrame\n",
      "Complete.\n"
     ]
    }
   ],
   "source": [
    "# Create a cleaned df of all of our data\n",
    "pre_features_df = create_df('data/epl_data.csv')\n",
    "\n",
    "# Create our features\n",
    "features = create_feature_df(pre_features_df)"
   ]
  },
  {
   "cell_type": "code",
   "execution_count": 17,
   "metadata": {},
   "outputs": [],
   "source": [
    "features = (pre_features_df.assign(margin=lambda df: df.FTHG - df.FTAG)\n",
    "                           .loc[:, ['gameId', 'margin']]\n",
    "                           .pipe(pd.merge, features, on=['gameId']))"
   ]
  },
  {
   "cell_type": "code",
   "execution_count": 18,
   "metadata": {},
   "outputs": [
    {
     "data": {
      "text/plain": [
       "margin                     1.000000\n",
       "f_awayOdds                 0.416240\n",
       "f_totalMktH%               0.336140\n",
       "f_defMktH%                 0.330263\n",
       "f_eloAgainstAway           0.322712\n",
       "f_eloForHome               0.322712\n",
       "f_midMktH%                 0.320925\n",
       "f_attMktH%                 0.319209\n",
       "f_sizeOfHandicapAway       0.304771\n",
       "f_goalsForHome             0.304500\n",
       "f_wtEloGoalsForHome        0.301870\n",
       "f_shotsForHome             0.290261\n",
       "f_cornersForHome           0.283539\n",
       "f_gkMktH%                  0.281829\n",
       "f_homeWinPc38Away          0.275228\n",
       "f_homeWinPc38Home          0.275228\n",
       "f_wtEloGoalsAgainstAway    0.269307\n",
       "f_cornersAgainstAway       0.262362\n",
       "f_halfTimeGoalsForHome     0.261980\n",
       "f_goalsAgainstAway         0.259964\n",
       "Name: margin, dtype: float64"
      ]
     },
     "execution_count": 18,
     "metadata": {},
     "output_type": "execute_result"
    }
   ],
   "source": [
    "features.corr().margin.sort_values(ascending=False)[:20]"
   ]
  },
  {
   "cell_type": "markdown",
   "metadata": {},
   "source": [
    "As we can see away odds is most highly correlated to margin. This makes sense, as odds generally have most/all information included in the price. What is interesting is that elo seems to also be highly correlated, which is good news for our elo model that we made. Similarly, weighted goals and the the value of the defence relative to other teams ('defMktH%' etc.) is strongly correlated to margin."
   ]
  }
 ],
 "metadata": {
  "kernelspec": {
   "display_name": "Python 3",
   "language": "python",
   "name": "python3"
  },
  "language_info": {
   "codemirror_mode": {
    "name": "ipython",
    "version": 3
   },
   "file_extension": ".py",
   "mimetype": "text/x-python",
   "name": "python",
   "nbconvert_exporter": "python",
   "pygments_lexer": "ipython3",
   "version": "3.7.3"
  }
 },
 "nbformat": 4,
 "nbformat_minor": 2
}
